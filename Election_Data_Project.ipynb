{
  "nbformat": 4,
  "nbformat_minor": 0,
  "metadata": {
    "colab": {
      "name": "Election Data Project.ipynb",
      "provenance": []
    },
    "kernelspec": {
      "name": "python3",
      "display_name": "Python 3"
    }
  },
  "cells": [
    {
      "cell_type": "code",
      "metadata": {
        "id": "K7sDTbzR4uOn"
      },
      "source": [
        "import numpy as np\r\n",
        "import pandas as pd\r\n",
        "from pandas import DataFrame, Series\r\n",
        "from numpy.random import randn\r\n",
        "from scipy import stats\r\n",
        "import matplotlib as mpl\r\n",
        "import matplotlib.pyplot as plt\r\n",
        "import seaborn as sns\r\n",
        "sns.set_style('whitegrid')\r\n",
        "%matplotlib inline"
      ],
      "execution_count": 2,
      "outputs": []
    },
    {
      "cell_type": "code",
      "metadata": {
        "id": "Lg37Xmd75QeS"
      },
      "source": [
        "import requests\r\n",
        "from io import StringIO"
      ],
      "execution_count": 4,
      "outputs": []
    },
    {
      "cell_type": "code",
      "metadata": {
        "id": "qDe9GDSu5roM"
      },
      "source": [
        "url = \"http://elections.huffingtonpost.com/pollster/2012-general-election-romney-vs-obama.csv\""
      ],
      "execution_count": 6,
      "outputs": []
    },
    {
      "cell_type": "code",
      "metadata": {
        "id": "SFILCiSN6Myx"
      },
      "source": [
        "source = source = requests.get(url).text\r\n",
        "\r\n",
        "poll_data = StringIO(source)"
      ],
      "execution_count": 7,
      "outputs": []
    },
    {
      "cell_type": "code",
      "metadata": {
        "id": "XpZgz7--7BNR"
      },
      "source": [
        "poll_df = pd.read_csv(poll_data)"
      ],
      "execution_count": 8,
      "outputs": []
    },
    {
      "cell_type": "code",
      "metadata": {
        "colab": {
          "base_uri": "https://localhost:8080/"
        },
        "id": "LVDi2jKJ7LxF",
        "outputId": "e04fee8e-2774-4ec2-878b-428a408193b6"
      },
      "source": [
        "poll_df.info()"
      ],
      "execution_count": 10,
      "outputs": [
        {
          "output_type": "stream",
          "text": [
            "<class 'pandas.core.frame.DataFrame'>\n",
            "RangeIndex: 586 entries, 0 to 585\n",
            "Data columns (total 17 columns):\n",
            " #   Column                  Non-Null Count  Dtype  \n",
            "---  ------                  --------------  -----  \n",
            " 0   Pollster                586 non-null    object \n",
            " 1   Start Date              586 non-null    object \n",
            " 2   End Date                586 non-null    object \n",
            " 3   Entry Date/Time (ET)    586 non-null    object \n",
            " 4   Number of Observations  564 non-null    float64\n",
            " 5   Population              586 non-null    object \n",
            " 6   Mode                    586 non-null    object \n",
            " 7   Obama                   586 non-null    float64\n",
            " 8   Romney                  586 non-null    float64\n",
            " 9   Undecided               423 non-null    float64\n",
            " 10  Other                   202 non-null    float64\n",
            " 11  Pollster URL            586 non-null    object \n",
            " 12  Source URL              584 non-null    object \n",
            " 13  Partisan                586 non-null    object \n",
            " 14  Affiliation             586 non-null    object \n",
            " 15  Question Text           0 non-null      float64\n",
            " 16  Question Iteration      586 non-null    int64  \n",
            "dtypes: float64(6), int64(1), object(10)\n",
            "memory usage: 78.0+ KB\n"
          ],
          "name": "stdout"
        }
      ]
    },
    {
      "cell_type": "code",
      "metadata": {
        "colab": {
          "base_uri": "https://localhost:8080/",
          "height": 333
        },
        "id": "xRMDXyGV7Go8",
        "outputId": "216089c6-e6c1-40b6-ddf5-b8d3d90ec1dd"
      },
      "source": [
        "poll_df.head()"
      ],
      "execution_count": 9,
      "outputs": [
        {
          "output_type": "execute_result",
          "data": {
            "text/html": [
              "<div>\n",
              "<style scoped>\n",
              "    .dataframe tbody tr th:only-of-type {\n",
              "        vertical-align: middle;\n",
              "    }\n",
              "\n",
              "    .dataframe tbody tr th {\n",
              "        vertical-align: top;\n",
              "    }\n",
              "\n",
              "    .dataframe thead th {\n",
              "        text-align: right;\n",
              "    }\n",
              "</style>\n",
              "<table border=\"1\" class=\"dataframe\">\n",
              "  <thead>\n",
              "    <tr style=\"text-align: right;\">\n",
              "      <th></th>\n",
              "      <th>Pollster</th>\n",
              "      <th>Start Date</th>\n",
              "      <th>End Date</th>\n",
              "      <th>Entry Date/Time (ET)</th>\n",
              "      <th>Number of Observations</th>\n",
              "      <th>Population</th>\n",
              "      <th>Mode</th>\n",
              "      <th>Obama</th>\n",
              "      <th>Romney</th>\n",
              "      <th>Undecided</th>\n",
              "      <th>Other</th>\n",
              "      <th>Pollster URL</th>\n",
              "      <th>Source URL</th>\n",
              "      <th>Partisan</th>\n",
              "      <th>Affiliation</th>\n",
              "      <th>Question Text</th>\n",
              "      <th>Question Iteration</th>\n",
              "    </tr>\n",
              "  </thead>\n",
              "  <tbody>\n",
              "    <tr>\n",
              "      <th>0</th>\n",
              "      <td>Politico/GWU/Battleground</td>\n",
              "      <td>2012-11-04</td>\n",
              "      <td>2012-11-05</td>\n",
              "      <td>2012-11-06T08:40:26Z</td>\n",
              "      <td>1000.0</td>\n",
              "      <td>Likely Voters</td>\n",
              "      <td>Live Phone</td>\n",
              "      <td>47.0</td>\n",
              "      <td>47.0</td>\n",
              "      <td>6.0</td>\n",
              "      <td>NaN</td>\n",
              "      <td>https://elections.huffingtonpost.com/pollster/...</td>\n",
              "      <td>http://www.politico.com/news/stories/1112/8338...</td>\n",
              "      <td>Nonpartisan</td>\n",
              "      <td>None</td>\n",
              "      <td>NaN</td>\n",
              "      <td>1</td>\n",
              "    </tr>\n",
              "    <tr>\n",
              "      <th>1</th>\n",
              "      <td>YouGov/Economist</td>\n",
              "      <td>2012-11-03</td>\n",
              "      <td>2012-11-05</td>\n",
              "      <td>2012-11-26T15:31:23Z</td>\n",
              "      <td>740.0</td>\n",
              "      <td>Likely Voters</td>\n",
              "      <td>Internet</td>\n",
              "      <td>49.0</td>\n",
              "      <td>47.0</td>\n",
              "      <td>3.0</td>\n",
              "      <td>NaN</td>\n",
              "      <td>https://elections.huffingtonpost.com/pollster/...</td>\n",
              "      <td>http://cdn.yougov.com/cumulus_uploads/document...</td>\n",
              "      <td>Nonpartisan</td>\n",
              "      <td>None</td>\n",
              "      <td>NaN</td>\n",
              "      <td>1</td>\n",
              "    </tr>\n",
              "    <tr>\n",
              "      <th>2</th>\n",
              "      <td>Gravis Marketing</td>\n",
              "      <td>2012-11-03</td>\n",
              "      <td>2012-11-05</td>\n",
              "      <td>2012-11-06T09:22:02Z</td>\n",
              "      <td>872.0</td>\n",
              "      <td>Likely Voters</td>\n",
              "      <td>Automated Phone</td>\n",
              "      <td>48.0</td>\n",
              "      <td>48.0</td>\n",
              "      <td>4.0</td>\n",
              "      <td>NaN</td>\n",
              "      <td>https://elections.huffingtonpost.com/pollster/...</td>\n",
              "      <td>http://www.gravispolls.com/2012/11/gravis-mark...</td>\n",
              "      <td>Nonpartisan</td>\n",
              "      <td>None</td>\n",
              "      <td>NaN</td>\n",
              "      <td>1</td>\n",
              "    </tr>\n",
              "    <tr>\n",
              "      <th>3</th>\n",
              "      <td>IBD/TIPP</td>\n",
              "      <td>2012-11-03</td>\n",
              "      <td>2012-11-05</td>\n",
              "      <td>2012-11-06T08:51:48Z</td>\n",
              "      <td>712.0</td>\n",
              "      <td>Likely Voters</td>\n",
              "      <td>Live Phone</td>\n",
              "      <td>50.0</td>\n",
              "      <td>49.0</td>\n",
              "      <td>NaN</td>\n",
              "      <td>1.0</td>\n",
              "      <td>https://elections.huffingtonpost.com/pollster/...</td>\n",
              "      <td>http://news.investors.com/special-report/50841...</td>\n",
              "      <td>Nonpartisan</td>\n",
              "      <td>None</td>\n",
              "      <td>NaN</td>\n",
              "      <td>1</td>\n",
              "    </tr>\n",
              "    <tr>\n",
              "      <th>4</th>\n",
              "      <td>Rasmussen</td>\n",
              "      <td>2012-11-03</td>\n",
              "      <td>2012-11-05</td>\n",
              "      <td>2012-11-06T08:47:50Z</td>\n",
              "      <td>1500.0</td>\n",
              "      <td>Likely Voters</td>\n",
              "      <td>Automated Phone</td>\n",
              "      <td>48.0</td>\n",
              "      <td>49.0</td>\n",
              "      <td>NaN</td>\n",
              "      <td>NaN</td>\n",
              "      <td>https://elections.huffingtonpost.com/pollster/...</td>\n",
              "      <td>http://www.rasmussenreports.com/public_content...</td>\n",
              "      <td>Nonpartisan</td>\n",
              "      <td>None</td>\n",
              "      <td>NaN</td>\n",
              "      <td>1</td>\n",
              "    </tr>\n",
              "  </tbody>\n",
              "</table>\n",
              "</div>"
            ],
            "text/plain": [
              "                    Pollster  Start Date  ... Question Text Question Iteration\n",
              "0  Politico/GWU/Battleground  2012-11-04  ...           NaN                  1\n",
              "1           YouGov/Economist  2012-11-03  ...           NaN                  1\n",
              "2           Gravis Marketing  2012-11-03  ...           NaN                  1\n",
              "3                   IBD/TIPP  2012-11-03  ...           NaN                  1\n",
              "4                  Rasmussen  2012-11-03  ...           NaN                  1\n",
              "\n",
              "[5 rows x 17 columns]"
            ]
          },
          "metadata": {
            "tags": []
          },
          "execution_count": 9
        }
      ]
    },
    {
      "cell_type": "code",
      "metadata": {
        "colab": {
          "base_uri": "https://localhost:8080/",
          "height": 400
        },
        "id": "rZJpRGzI7IDg",
        "outputId": "617ec64e-e252-42a5-e940-e37818faf7e2"
      },
      "source": [
        "sns.catplot(x='Affiliation',data=poll_df,kind='count')"
      ],
      "execution_count": 12,
      "outputs": [
        {
          "output_type": "execute_result",
          "data": {
            "text/plain": [
              "<seaborn.axisgrid.FacetGrid at 0x7f784a576ba8>"
            ]
          },
          "metadata": {
            "tags": []
          },
          "execution_count": 12
        },
        {
          "output_type": "display_data",
          "data": {
            "image/png": "[encoded data removed]",
            "text/plain": [
              "<Figure size 360x360 with 1 Axes>"
            ]
          },
          "metadata": {
            "tags": [],
            "needs_background": "light"
          }
        }
      ]
    },
    {
      "cell_type": "code",
      "metadata": {
        "colab": {
          "base_uri": "https://localhost:8080/",
          "height": 400
        },
        "id": "fQNgM_aB7dmi",
        "outputId": "daaa4ae2-0655-42d6-9042-90f4f4571cd6"
      },
      "source": [
        "sns.catplot(x='Affiliation',data=poll_df,hue='Population',kind='count')"
      ],
      "execution_count": 14,
      "outputs": [
        {
          "output_type": "execute_result",
          "data": {
            "text/plain": [
              "<seaborn.axisgrid.FacetGrid at 0x7f7847354710>"
            ]
          },
          "metadata": {
            "tags": []
          },
          "execution_count": 14
        },
        {
          "output_type": "display_data",
          "data": {
            "image/png": "[encoded data removed]",
            "text/plain": [
              "<Figure size 524.25x360 with 1 Axes>"
            ]
          },
          "metadata": {
            "tags": [],
            "needs_background": "light"
          }
        }
      ]
    },
    {
      "cell_type": "code",
      "metadata": {
        "colab": {
          "base_uri": "https://localhost:8080/",
          "height": 333
        },
        "id": "qHvFge5M7ugN",
        "outputId": "36752dd5-4c1e-499e-9630-caff4a218f95"
      },
      "source": [
        "poll_df.head()"
      ],
      "execution_count": 15,
      "outputs": [
        {
          "output_type": "execute_result",
          "data": {
            "text/html": [
              "<div>\n",
              "<style scoped>\n",
              "    .dataframe tbody tr th:only-of-type {\n",
              "        vertical-align: middle;\n",
              "    }\n",
              "\n",
              "    .dataframe tbody tr th {\n",
              "        vertical-align: top;\n",
              "    }\n",
              "\n",
              "    .dataframe thead th {\n",
              "        text-align: right;\n",
              "    }\n",
              "</style>\n",
              "<table border=\"1\" class=\"dataframe\">\n",
              "  <thead>\n",
              "    <tr style=\"text-align: right;\">\n",
              "      <th></th>\n",
              "      <th>Pollster</th>\n",
              "      <th>Start Date</th>\n",
              "      <th>End Date</th>\n",
              "      <th>Entry Date/Time (ET)</th>\n",
              "      <th>Number of Observations</th>\n",
              "      <th>Population</th>\n",
              "      <th>Mode</th>\n",
              "      <th>Obama</th>\n",
              "      <th>Romney</th>\n",
              "      <th>Undecided</th>\n",
              "      <th>Other</th>\n",
              "      <th>Pollster URL</th>\n",
              "      <th>Source URL</th>\n",
              "      <th>Partisan</th>\n",
              "      <th>Affiliation</th>\n",
              "      <th>Question Text</th>\n",
              "      <th>Question Iteration</th>\n",
              "    </tr>\n",
              "  </thead>\n",
              "  <tbody>\n",
              "    <tr>\n",
              "      <th>0</th>\n",
              "      <td>Politico/GWU/Battleground</td>\n",
              "      <td>2012-11-04</td>\n",
              "      <td>2012-11-05</td>\n",
              "      <td>2012-11-06T08:40:26Z</td>\n",
              "      <td>1000.0</td>\n",
              "      <td>Likely Voters</td>\n",
              "      <td>Live Phone</td>\n",
              "      <td>47.0</td>\n",
              "      <td>47.0</td>\n",
              "      <td>6.0</td>\n",
              "      <td>NaN</td>\n",
              "      <td>https://elections.huffingtonpost.com/pollster/...</td>\n",
              "      <td>http://www.politico.com/news/stories/1112/8338...</td>\n",
              "      <td>Nonpartisan</td>\n",
              "      <td>None</td>\n",
              "      <td>NaN</td>\n",
              "      <td>1</td>\n",
              "    </tr>\n",
              "    <tr>\n",
              "      <th>1</th>\n",
              "      <td>YouGov/Economist</td>\n",
              "      <td>2012-11-03</td>\n",
              "      <td>2012-11-05</td>\n",
              "      <td>2012-11-26T15:31:23Z</td>\n",
              "      <td>740.0</td>\n",
              "      <td>Likely Voters</td>\n",
              "      <td>Internet</td>\n",
              "      <td>49.0</td>\n",
              "      <td>47.0</td>\n",
              "      <td>3.0</td>\n",
              "      <td>NaN</td>\n",
              "      <td>https://elections.huffingtonpost.com/pollster/...</td>\n",
              "      <td>http://cdn.yougov.com/cumulus_uploads/document...</td>\n",
              "      <td>Nonpartisan</td>\n",
              "      <td>None</td>\n",
              "      <td>NaN</td>\n",
              "      <td>1</td>\n",
              "    </tr>\n",
              "    <tr>\n",
              "      <th>2</th>\n",
              "      <td>Gravis Marketing</td>\n",
              "      <td>2012-11-03</td>\n",
              "      <td>2012-11-05</td>\n",
              "      <td>2012-11-06T09:22:02Z</td>\n",
              "      <td>872.0</td>\n",
              "      <td>Likely Voters</td>\n",
              "      <td>Automated Phone</td>\n",
              "      <td>48.0</td>\n",
              "      <td>48.0</td>\n",
              "      <td>4.0</td>\n",
              "      <td>NaN</td>\n",
              "      <td>https://elections.huffingtonpost.com/pollster/...</td>\n",
              "      <td>http://www.gravispolls.com/2012/11/gravis-mark...</td>\n",
              "      <td>Nonpartisan</td>\n",
              "      <td>None</td>\n",
              "      <td>NaN</td>\n",
              "      <td>1</td>\n",
              "    </tr>\n",
              "    <tr>\n",
              "      <th>3</th>\n",
              "      <td>IBD/TIPP</td>\n",
              "      <td>2012-11-03</td>\n",
              "      <td>2012-11-05</td>\n",
              "      <td>2012-11-06T08:51:48Z</td>\n",
              "      <td>712.0</td>\n",
              "      <td>Likely Voters</td>\n",
              "      <td>Live Phone</td>\n",
              "      <td>50.0</td>\n",
              "      <td>49.0</td>\n",
              "      <td>NaN</td>\n",
              "      <td>1.0</td>\n",
              "      <td>https://elections.huffingtonpost.com/pollster/...</td>\n",
              "      <td>http://news.investors.com/special-report/50841...</td>\n",
              "      <td>Nonpartisan</td>\n",
              "      <td>None</td>\n",
              "      <td>NaN</td>\n",
              "      <td>1</td>\n",
              "    </tr>\n",
              "    <tr>\n",
              "      <th>4</th>\n",
              "      <td>Rasmussen</td>\n",
              "      <td>2012-11-03</td>\n",
              "      <td>2012-11-05</td>\n",
              "      <td>2012-11-06T08:47:50Z</td>\n",
              "      <td>1500.0</td>\n",
              "      <td>Likely Voters</td>\n",
              "      <td>Automated Phone</td>\n",
              "      <td>48.0</td>\n",
              "      <td>49.0</td>\n",
              "      <td>NaN</td>\n",
              "      <td>NaN</td>\n",
              "      <td>https://elections.huffingtonpost.com/pollster/...</td>\n",
              "      <td>http://www.rasmussenreports.com/public_content...</td>\n",
              "      <td>Nonpartisan</td>\n",
              "      <td>None</td>\n",
              "      <td>NaN</td>\n",
              "      <td>1</td>\n",
              "    </tr>\n",
              "  </tbody>\n",
              "</table>\n",
              "</div>"
            ],
            "text/plain": [
              "                    Pollster  Start Date  ... Question Text Question Iteration\n",
              "0  Politico/GWU/Battleground  2012-11-04  ...           NaN                  1\n",
              "1           YouGov/Economist  2012-11-03  ...           NaN                  1\n",
              "2           Gravis Marketing  2012-11-03  ...           NaN                  1\n",
              "3                   IBD/TIPP  2012-11-03  ...           NaN                  1\n",
              "4                  Rasmussen  2012-11-03  ...           NaN                  1\n",
              "\n",
              "[5 rows x 17 columns]"
            ]
          },
          "metadata": {
            "tags": []
          },
          "execution_count": 15
        }
      ]
    },
    {
      "cell_type": "code",
      "metadata": {
        "id": "QcPnyQRK7_Ge"
      },
      "source": [
        "avg = pd.DataFrame(poll_df.mean())\r\n",
        "\r\n",
        "avg.drop('Number of Observations',axis=0,inplace=True)\r\n",
        "avg.drop('Other',axis=0,inplace=True)\r\n",
        "avg.drop('Question Text',axis=0,inplace=True)\r\n",
        "avg.drop('Question Iteration',axis=0,inplace=True)"
      ],
      "execution_count": 22,
      "outputs": []
    },
    {
      "cell_type": "code",
      "metadata": {
        "colab": {
          "base_uri": "https://localhost:8080/",
          "height": 136
        },
        "id": "zorCZIFX8NGy",
        "outputId": "84451c18-aab9-41fa-ddcb-5368e9dcccdd"
      },
      "source": [
        "avg"
      ],
      "execution_count": 23,
      "outputs": [
        {
          "output_type": "execute_result",
          "data": {
            "text/html": [
              "<div>\n",
              "<style scoped>\n",
              "    .dataframe tbody tr th:only-of-type {\n",
              "        vertical-align: middle;\n",
              "    }\n",
              "\n",
              "    .dataframe tbody tr th {\n",
              "        vertical-align: top;\n",
              "    }\n",
              "\n",
              "    .dataframe thead th {\n",
              "        text-align: right;\n",
              "    }\n",
              "</style>\n",
              "<table border=\"1\" class=\"dataframe\">\n",
              "  <thead>\n",
              "    <tr style=\"text-align: right;\">\n",
              "      <th></th>\n",
              "      <th>0</th>\n",
              "    </tr>\n",
              "  </thead>\n",
              "  <tbody>\n",
              "    <tr>\n",
              "      <th>Obama</th>\n",
              "      <td>46.805461</td>\n",
              "    </tr>\n",
              "    <tr>\n",
              "      <th>Romney</th>\n",
              "      <td>44.614334</td>\n",
              "    </tr>\n",
              "    <tr>\n",
              "      <th>Undecided</th>\n",
              "      <td>6.550827</td>\n",
              "    </tr>\n",
              "  </tbody>\n",
              "</table>\n",
              "</div>"
            ],
            "text/plain": [
              "                   0\n",
              "Obama      46.805461\n",
              "Romney     44.614334\n",
              "Undecided   6.550827"
            ]
          },
          "metadata": {
            "tags": []
          },
          "execution_count": 23
        }
      ]
    },
    {
      "cell_type": "code",
      "metadata": {
        "id": "wJ4wxNBg8Uoh"
      },
      "source": [
        "std = pd.DataFrame(poll_df.std())\r\n",
        "\r\n",
        "std.drop('Number of Observations',axis=0,inplace=True)\r\n",
        "std.drop('Other',axis=0,inplace=True)\r\n",
        "std.drop('Question Text',axis=0,inplace=True)\r\n",
        "std.drop('Question Iteration',axis=0,inplace=True)"
      ],
      "execution_count": 25,
      "outputs": []
    },
    {
      "cell_type": "code",
      "metadata": {
        "colab": {
          "base_uri": "https://localhost:8080/",
          "height": 136
        },
        "id": "-WcBXkP18d9B",
        "outputId": "57921c6e-6cd2-462c-d146-fc731824bb06"
      },
      "source": [
        "std.head()"
      ],
      "execution_count": 26,
      "outputs": [
        {
          "output_type": "execute_result",
          "data": {
            "text/html": [
              "<div>\n",
              "<style scoped>\n",
              "    .dataframe tbody tr th:only-of-type {\n",
              "        vertical-align: middle;\n",
              "    }\n",
              "\n",
              "    .dataframe tbody tr th {\n",
              "        vertical-align: top;\n",
              "    }\n",
              "\n",
              "    .dataframe thead th {\n",
              "        text-align: right;\n",
              "    }\n",
              "</style>\n",
              "<table border=\"1\" class=\"dataframe\">\n",
              "  <thead>\n",
              "    <tr style=\"text-align: right;\">\n",
              "      <th></th>\n",
              "      <th>0</th>\n",
              "    </tr>\n",
              "  </thead>\n",
              "  <tbody>\n",
              "    <tr>\n",
              "      <th>Obama</th>\n",
              "      <td>2.422058</td>\n",
              "    </tr>\n",
              "    <tr>\n",
              "      <th>Romney</th>\n",
              "      <td>2.906180</td>\n",
              "    </tr>\n",
              "    <tr>\n",
              "      <th>Undecided</th>\n",
              "      <td>3.701754</td>\n",
              "    </tr>\n",
              "  </tbody>\n",
              "</table>\n",
              "</div>"
            ],
            "text/plain": [
              "                  0\n",
              "Obama      2.422058\n",
              "Romney     2.906180\n",
              "Undecided  3.701754"
            ]
          },
          "metadata": {
            "tags": []
          },
          "execution_count": 26
        }
      ]
    },
    {
      "cell_type": "code",
      "metadata": {
        "colab": {
          "base_uri": "https://localhost:8080/",
          "height": 326
        },
        "id": "_5j5e7Cu8fHx",
        "outputId": "b1b78671-a334-4c93-e51c-5f8e2ae7c74d"
      },
      "source": [
        "avg.plot(yerr=std,kind='bar',legend=False)"
      ],
      "execution_count": 27,
      "outputs": [
        {
          "output_type": "execute_result",
          "data": {
            "text/plain": [
              "<matplotlib.axes._subplots.AxesSubplot at 0x7f78471e1ef0>"
            ]
          },
          "metadata": {
            "tags": []
          },
          "execution_count": 27
        },
        {
          "output_type": "display_data",
          "data": {
            "image/png": "[encoded data removed]",
            "text/plain": [
              "<Figure size 432x288 with 1 Axes>"
            ]
          },
          "metadata": {
            "tags": [],
            "needs_background": "light"
          }
        }
      ]
    },
    {
      "cell_type": "code",
      "metadata": {
        "id": "0QX-Zn_J8nDi"
      },
      "source": [
        "poll_avg = pd.concat([avg,std],axis=1)"
      ],
      "execution_count": 28,
      "outputs": []
    },
    {
      "cell_type": "code",
      "metadata": {
        "id": "AwLx1QtoBvLq"
      },
      "source": [
        "poll_avg.columns=['Average','STD']"
      ],
      "execution_count": 30,
      "outputs": []
    },
    {
      "cell_type": "code",
      "metadata": {
        "colab": {
          "base_uri": "https://localhost:8080/",
          "height": 136
        },
        "id": "PDtNvIYUBwSJ",
        "outputId": "f9e91fd5-48ac-4ba6-9308-5a675eeb9716"
      },
      "source": [
        "poll_avg"
      ],
      "execution_count": 31,
      "outputs": [
        {
          "output_type": "execute_result",
          "data": {
            "text/html": [
              "<div>\n",
              "<style scoped>\n",
              "    .dataframe tbody tr th:only-of-type {\n",
              "        vertical-align: middle;\n",
              "    }\n",
              "\n",
              "    .dataframe tbody tr th {\n",
              "        vertical-align: top;\n",
              "    }\n",
              "\n",
              "    .dataframe thead th {\n",
              "        text-align: right;\n",
              "    }\n",
              "</style>\n",
              "<table border=\"1\" class=\"dataframe\">\n",
              "  <thead>\n",
              "    <tr style=\"text-align: right;\">\n",
              "      <th></th>\n",
              "      <th>Average</th>\n",
              "      <th>STD</th>\n",
              "    </tr>\n",
              "  </thead>\n",
              "  <tbody>\n",
              "    <tr>\n",
              "      <th>Obama</th>\n",
              "      <td>46.805461</td>\n",
              "      <td>2.422058</td>\n",
              "    </tr>\n",
              "    <tr>\n",
              "      <th>Romney</th>\n",
              "      <td>44.614334</td>\n",
              "      <td>2.906180</td>\n",
              "    </tr>\n",
              "    <tr>\n",
              "      <th>Undecided</th>\n",
              "      <td>6.550827</td>\n",
              "      <td>3.701754</td>\n",
              "    </tr>\n",
              "  </tbody>\n",
              "</table>\n",
              "</div>"
            ],
            "text/plain": [
              "             Average       STD\n",
              "Obama      46.805461  2.422058\n",
              "Romney     44.614334  2.906180\n",
              "Undecided   6.550827  3.701754"
            ]
          },
          "metadata": {
            "tags": []
          },
          "execution_count": 31
        }
      ]
    },
    {
      "cell_type": "code",
      "metadata": {
        "colab": {
          "base_uri": "https://localhost:8080/",
          "height": 333
        },
        "id": "RRiMO4_4B2RH",
        "outputId": "23b146f8-3839-4779-dc08-22cf0e1fbbae"
      },
      "source": [
        "poll_df.head()"
      ],
      "execution_count": 32,
      "outputs": [
        {
          "output_type": "execute_result",
          "data": {
            "text/html": [
              "<div>\n",
              "<style scoped>\n",
              "    .dataframe tbody tr th:only-of-type {\n",
              "        vertical-align: middle;\n",
              "    }\n",
              "\n",
              "    .dataframe tbody tr th {\n",
              "        vertical-align: top;\n",
              "    }\n",
              "\n",
              "    .dataframe thead th {\n",
              "        text-align: right;\n",
              "    }\n",
              "</style>\n",
              "<table border=\"1\" class=\"dataframe\">\n",
              "  <thead>\n",
              "    <tr style=\"text-align: right;\">\n",
              "      <th></th>\n",
              "      <th>Pollster</th>\n",
              "      <th>Start Date</th>\n",
              "      <th>End Date</th>\n",
              "      <th>Entry Date/Time (ET)</th>\n",
              "      <th>Number of Observations</th>\n",
              "      <th>Population</th>\n",
              "      <th>Mode</th>\n",
              "      <th>Obama</th>\n",
              "      <th>Romney</th>\n",
              "      <th>Undecided</th>\n",
              "      <th>Other</th>\n",
              "      <th>Pollster URL</th>\n",
              "      <th>Source URL</th>\n",
              "      <th>Partisan</th>\n",
              "      <th>Affiliation</th>\n",
              "      <th>Question Text</th>\n",
              "      <th>Question Iteration</th>\n",
              "    </tr>\n",
              "  </thead>\n",
              "  <tbody>\n",
              "    <tr>\n",
              "      <th>0</th>\n",
              "      <td>Politico/GWU/Battleground</td>\n",
              "      <td>2012-11-04</td>\n",
              "      <td>2012-11-05</td>\n",
              "      <td>2012-11-06T08:40:26Z</td>\n",
              "      <td>1000.0</td>\n",
              "      <td>Likely Voters</td>\n",
              "      <td>Live Phone</td>\n",
              "      <td>47.0</td>\n",
              "      <td>47.0</td>\n",
              "      <td>6.0</td>\n",
              "      <td>NaN</td>\n",
              "      <td>https://elections.huffingtonpost.com/pollster/...</td>\n",
              "      <td>http://www.politico.com/news/stories/1112/8338...</td>\n",
              "      <td>Nonpartisan</td>\n",
              "      <td>None</td>\n",
              "      <td>NaN</td>\n",
              "      <td>1</td>\n",
              "    </tr>\n",
              "    <tr>\n",
              "      <th>1</th>\n",
              "      <td>YouGov/Economist</td>\n",
              "      <td>2012-11-03</td>\n",
              "      <td>2012-11-05</td>\n",
              "      <td>2012-11-26T15:31:23Z</td>\n",
              "      <td>740.0</td>\n",
              "      <td>Likely Voters</td>\n",
              "      <td>Internet</td>\n",
              "      <td>49.0</td>\n",
              "      <td>47.0</td>\n",
              "      <td>3.0</td>\n",
              "      <td>NaN</td>\n",
              "      <td>https://elections.huffingtonpost.com/pollster/...</td>\n",
              "      <td>http://cdn.yougov.com/cumulus_uploads/document...</td>\n",
              "      <td>Nonpartisan</td>\n",
              "      <td>None</td>\n",
              "      <td>NaN</td>\n",
              "      <td>1</td>\n",
              "    </tr>\n",
              "    <tr>\n",
              "      <th>2</th>\n",
              "      <td>Gravis Marketing</td>\n",
              "      <td>2012-11-03</td>\n",
              "      <td>2012-11-05</td>\n",
              "      <td>2012-11-06T09:22:02Z</td>\n",
              "      <td>872.0</td>\n",
              "      <td>Likely Voters</td>\n",
              "      <td>Automated Phone</td>\n",
              "      <td>48.0</td>\n",
              "      <td>48.0</td>\n",
              "      <td>4.0</td>\n",
              "      <td>NaN</td>\n",
              "      <td>https://elections.huffingtonpost.com/pollster/...</td>\n",
              "      <td>http://www.gravispolls.com/2012/11/gravis-mark...</td>\n",
              "      <td>Nonpartisan</td>\n",
              "      <td>None</td>\n",
              "      <td>NaN</td>\n",
              "      <td>1</td>\n",
              "    </tr>\n",
              "    <tr>\n",
              "      <th>3</th>\n",
              "      <td>IBD/TIPP</td>\n",
              "      <td>2012-11-03</td>\n",
              "      <td>2012-11-05</td>\n",
              "      <td>2012-11-06T08:51:48Z</td>\n",
              "      <td>712.0</td>\n",
              "      <td>Likely Voters</td>\n",
              "      <td>Live Phone</td>\n",
              "      <td>50.0</td>\n",
              "      <td>49.0</td>\n",
              "      <td>NaN</td>\n",
              "      <td>1.0</td>\n",
              "      <td>https://elections.huffingtonpost.com/pollster/...</td>\n",
              "      <td>http://news.investors.com/special-report/50841...</td>\n",
              "      <td>Nonpartisan</td>\n",
              "      <td>None</td>\n",
              "      <td>NaN</td>\n",
              "      <td>1</td>\n",
              "    </tr>\n",
              "    <tr>\n",
              "      <th>4</th>\n",
              "      <td>Rasmussen</td>\n",
              "      <td>2012-11-03</td>\n",
              "      <td>2012-11-05</td>\n",
              "      <td>2012-11-06T08:47:50Z</td>\n",
              "      <td>1500.0</td>\n",
              "      <td>Likely Voters</td>\n",
              "      <td>Automated Phone</td>\n",
              "      <td>48.0</td>\n",
              "      <td>49.0</td>\n",
              "      <td>NaN</td>\n",
              "      <td>NaN</td>\n",
              "      <td>https://elections.huffingtonpost.com/pollster/...</td>\n",
              "      <td>http://www.rasmussenreports.com/public_content...</td>\n",
              "      <td>Nonpartisan</td>\n",
              "      <td>None</td>\n",
              "      <td>NaN</td>\n",
              "      <td>1</td>\n",
              "    </tr>\n",
              "  </tbody>\n",
              "</table>\n",
              "</div>"
            ],
            "text/plain": [
              "                    Pollster  Start Date  ... Question Text Question Iteration\n",
              "0  Politico/GWU/Battleground  2012-11-04  ...           NaN                  1\n",
              "1           YouGov/Economist  2012-11-03  ...           NaN                  1\n",
              "2           Gravis Marketing  2012-11-03  ...           NaN                  1\n",
              "3                   IBD/TIPP  2012-11-03  ...           NaN                  1\n",
              "4                  Rasmussen  2012-11-03  ...           NaN                  1\n",
              "\n",
              "[5 rows x 17 columns]"
            ]
          },
          "metadata": {
            "tags": []
          },
          "execution_count": 32
        }
      ]
    },
    {
      "cell_type": "code",
      "metadata": {
        "colab": {
          "base_uri": "https://localhost:8080/",
          "height": 296
        },
        "id": "345_iK1TCLkI",
        "outputId": "8d595056-5f69-4f51-c82a-e9dabdfd138c"
      },
      "source": [
        "poll_df.plot(x='End Date',y=['Obama','Romney','Undecided'],linestyle='',marker='o')"
      ],
      "execution_count": 33,
      "outputs": [
        {
          "output_type": "execute_result",
          "data": {
            "text/plain": [
              "<matplotlib.axes._subplots.AxesSubplot at 0x7f783f6647b8>"
            ]
          },
          "metadata": {
            "tags": []
          },
          "execution_count": 33
        },
        {
          "output_type": "display_data",
          "data": {
            "image/png": "[encoded data removed]",
            "text/plain": [
              "<Figure size 432x288 with 1 Axes>"
            ]
          },
          "metadata": {
            "tags": [],
            "needs_background": "light"
          }
        }
      ]
    },
    {
      "cell_type": "code",
      "metadata": {
        "id": "7ZBfjP8sCcur"
      },
      "source": [
        "from datetime import datetime"
      ],
      "execution_count": 34,
      "outputs": []
    },
    {
      "cell_type": "code",
      "metadata": {
        "colab": {
          "base_uri": "https://localhost:8080/",
          "height": 333
        },
        "id": "w9LDQLQICwtq",
        "outputId": "77e2224e-122b-4ba1-e774-9e062ad7ba22"
      },
      "source": [
        "poll_df['Difference'] = (poll_df.Obama - poll_df.Romney)/100\r\n",
        "poll_df.head()"
      ],
      "execution_count": 35,
      "outputs": [
        {
          "output_type": "execute_result",
          "data": {
            "text/html": [
              "<div>\n",
              "<style scoped>\n",
              "    .dataframe tbody tr th:only-of-type {\n",
              "        vertical-align: middle;\n",
              "    }\n",
              "\n",
              "    .dataframe tbody tr th {\n",
              "        vertical-align: top;\n",
              "    }\n",
              "\n",
              "    .dataframe thead th {\n",
              "        text-align: right;\n",
              "    }\n",
              "</style>\n",
              "<table border=\"1\" class=\"dataframe\">\n",
              "  <thead>\n",
              "    <tr style=\"text-align: right;\">\n",
              "      <th></th>\n",
              "      <th>Pollster</th>\n",
              "      <th>Start Date</th>\n",
              "      <th>End Date</th>\n",
              "      <th>Entry Date/Time (ET)</th>\n",
              "      <th>Number of Observations</th>\n",
              "      <th>Population</th>\n",
              "      <th>Mode</th>\n",
              "      <th>Obama</th>\n",
              "      <th>Romney</th>\n",
              "      <th>Undecided</th>\n",
              "      <th>Other</th>\n",
              "      <th>Pollster URL</th>\n",
              "      <th>Source URL</th>\n",
              "      <th>Partisan</th>\n",
              "      <th>Affiliation</th>\n",
              "      <th>Question Text</th>\n",
              "      <th>Question Iteration</th>\n",
              "      <th>Difference</th>\n",
              "    </tr>\n",
              "  </thead>\n",
              "  <tbody>\n",
              "    <tr>\n",
              "      <th>0</th>\n",
              "      <td>Politico/GWU/Battleground</td>\n",
              "      <td>2012-11-04</td>\n",
              "      <td>2012-11-05</td>\n",
              "      <td>2012-11-06T08:40:26Z</td>\n",
              "      <td>1000.0</td>\n",
              "      <td>Likely Voters</td>\n",
              "      <td>Live Phone</td>\n",
              "      <td>47.0</td>\n",
              "      <td>47.0</td>\n",
              "      <td>6.0</td>\n",
              "      <td>NaN</td>\n",
              "      <td>https://elections.huffingtonpost.com/pollster/...</td>\n",
              "      <td>http://www.politico.com/news/stories/1112/8338...</td>\n",
              "      <td>Nonpartisan</td>\n",
              "      <td>None</td>\n",
              "      <td>NaN</td>\n",
              "      <td>1</td>\n",
              "      <td>0.00</td>\n",
              "    </tr>\n",
              "    <tr>\n",
              "      <th>1</th>\n",
              "      <td>YouGov/Economist</td>\n",
              "      <td>2012-11-03</td>\n",
              "      <td>2012-11-05</td>\n",
              "      <td>2012-11-26T15:31:23Z</td>\n",
              "      <td>740.0</td>\n",
              "      <td>Likely Voters</td>\n",
              "      <td>Internet</td>\n",
              "      <td>49.0</td>\n",
              "      <td>47.0</td>\n",
              "      <td>3.0</td>\n",
              "      <td>NaN</td>\n",
              "      <td>https://elections.huffingtonpost.com/pollster/...</td>\n",
              "      <td>http://cdn.yougov.com/cumulus_uploads/document...</td>\n",
              "      <td>Nonpartisan</td>\n",
              "      <td>None</td>\n",
              "      <td>NaN</td>\n",
              "      <td>1</td>\n",
              "      <td>0.02</td>\n",
              "    </tr>\n",
              "    <tr>\n",
              "      <th>2</th>\n",
              "      <td>Gravis Marketing</td>\n",
              "      <td>2012-11-03</td>\n",
              "      <td>2012-11-05</td>\n",
              "      <td>2012-11-06T09:22:02Z</td>\n",
              "      <td>872.0</td>\n",
              "      <td>Likely Voters</td>\n",
              "      <td>Automated Phone</td>\n",
              "      <td>48.0</td>\n",
              "      <td>48.0</td>\n",
              "      <td>4.0</td>\n",
              "      <td>NaN</td>\n",
              "      <td>https://elections.huffingtonpost.com/pollster/...</td>\n",
              "      <td>http://www.gravispolls.com/2012/11/gravis-mark...</td>\n",
              "      <td>Nonpartisan</td>\n",
              "      <td>None</td>\n",
              "      <td>NaN</td>\n",
              "      <td>1</td>\n",
              "      <td>0.00</td>\n",
              "    </tr>\n",
              "    <tr>\n",
              "      <th>3</th>\n",
              "      <td>IBD/TIPP</td>\n",
              "      <td>2012-11-03</td>\n",
              "      <td>2012-11-05</td>\n",
              "      <td>2012-11-06T08:51:48Z</td>\n",
              "      <td>712.0</td>\n",
              "      <td>Likely Voters</td>\n",
              "      <td>Live Phone</td>\n",
              "      <td>50.0</td>\n",
              "      <td>49.0</td>\n",
              "      <td>NaN</td>\n",
              "      <td>1.0</td>\n",
              "      <td>https://elections.huffingtonpost.com/pollster/...</td>\n",
              "      <td>http://news.investors.com/special-report/50841...</td>\n",
              "      <td>Nonpartisan</td>\n",
              "      <td>None</td>\n",
              "      <td>NaN</td>\n",
              "      <td>1</td>\n",
              "      <td>0.01</td>\n",
              "    </tr>\n",
              "    <tr>\n",
              "      <th>4</th>\n",
              "      <td>Rasmussen</td>\n",
              "      <td>2012-11-03</td>\n",
              "      <td>2012-11-05</td>\n",
              "      <td>2012-11-06T08:47:50Z</td>\n",
              "      <td>1500.0</td>\n",
              "      <td>Likely Voters</td>\n",
              "      <td>Automated Phone</td>\n",
              "      <td>48.0</td>\n",
              "      <td>49.0</td>\n",
              "      <td>NaN</td>\n",
              "      <td>NaN</td>\n",
              "      <td>https://elections.huffingtonpost.com/pollster/...</td>\n",
              "      <td>http://www.rasmussenreports.com/public_content...</td>\n",
              "      <td>Nonpartisan</td>\n",
              "      <td>None</td>\n",
              "      <td>NaN</td>\n",
              "      <td>1</td>\n",
              "      <td>-0.01</td>\n",
              "    </tr>\n",
              "  </tbody>\n",
              "</table>\n",
              "</div>"
            ],
            "text/plain": [
              "                    Pollster  Start Date  ... Question Iteration Difference\n",
              "0  Politico/GWU/Battleground  2012-11-04  ...                  1       0.00\n",
              "1           YouGov/Economist  2012-11-03  ...                  1       0.02\n",
              "2           Gravis Marketing  2012-11-03  ...                  1       0.00\n",
              "3                   IBD/TIPP  2012-11-03  ...                  1       0.01\n",
              "4                  Rasmussen  2012-11-03  ...                  1      -0.01\n",
              "\n",
              "[5 rows x 18 columns]"
            ]
          },
          "metadata": {
            "tags": []
          },
          "execution_count": 35
        }
      ]
    },
    {
      "cell_type": "code",
      "metadata": {
        "colab": {
          "base_uri": "https://localhost:8080/",
          "height": 195
        },
        "id": "GQR62-ODC6-7",
        "outputId": "ac7cce81-2389-4f24-d0a6-d37bbd0d140e"
      },
      "source": [
        "poll_df = poll_df.groupby(['Start Date'],as_index=False).mean()\r\n",
        "\r\n",
        "poll_df.head()"
      ],
      "execution_count": 36,
      "outputs": [
        {
          "output_type": "execute_result",
          "data": {
            "text/html": [
              "<div>\n",
              "<style scoped>\n",
              "    .dataframe tbody tr th:only-of-type {\n",
              "        vertical-align: middle;\n",
              "    }\n",
              "\n",
              "    .dataframe tbody tr th {\n",
              "        vertical-align: top;\n",
              "    }\n",
              "\n",
              "    .dataframe thead th {\n",
              "        text-align: right;\n",
              "    }\n",
              "</style>\n",
              "<table border=\"1\" class=\"dataframe\">\n",
              "  <thead>\n",
              "    <tr style=\"text-align: right;\">\n",
              "      <th></th>\n",
              "      <th>Start Date</th>\n",
              "      <th>Number of Observations</th>\n",
              "      <th>Obama</th>\n",
              "      <th>Romney</th>\n",
              "      <th>Undecided</th>\n",
              "      <th>Other</th>\n",
              "      <th>Question Text</th>\n",
              "      <th>Question Iteration</th>\n",
              "      <th>Difference</th>\n",
              "    </tr>\n",
              "  </thead>\n",
              "  <tbody>\n",
              "    <tr>\n",
              "      <th>0</th>\n",
              "      <td>2009-03-13</td>\n",
              "      <td>1403.0</td>\n",
              "      <td>44.0</td>\n",
              "      <td>44.0</td>\n",
              "      <td>12.0</td>\n",
              "      <td>NaN</td>\n",
              "      <td>NaN</td>\n",
              "      <td>1</td>\n",
              "      <td>0.00</td>\n",
              "    </tr>\n",
              "    <tr>\n",
              "      <th>1</th>\n",
              "      <td>2009-04-17</td>\n",
              "      <td>686.0</td>\n",
              "      <td>50.0</td>\n",
              "      <td>39.0</td>\n",
              "      <td>11.0</td>\n",
              "      <td>NaN</td>\n",
              "      <td>NaN</td>\n",
              "      <td>1</td>\n",
              "      <td>0.11</td>\n",
              "    </tr>\n",
              "    <tr>\n",
              "      <th>2</th>\n",
              "      <td>2009-05-14</td>\n",
              "      <td>1000.0</td>\n",
              "      <td>53.0</td>\n",
              "      <td>35.0</td>\n",
              "      <td>12.0</td>\n",
              "      <td>NaN</td>\n",
              "      <td>NaN</td>\n",
              "      <td>1</td>\n",
              "      <td>0.18</td>\n",
              "    </tr>\n",
              "    <tr>\n",
              "      <th>3</th>\n",
              "      <td>2009-06-12</td>\n",
              "      <td>638.0</td>\n",
              "      <td>48.0</td>\n",
              "      <td>40.0</td>\n",
              "      <td>12.0</td>\n",
              "      <td>NaN</td>\n",
              "      <td>NaN</td>\n",
              "      <td>1</td>\n",
              "      <td>0.08</td>\n",
              "    </tr>\n",
              "    <tr>\n",
              "      <th>4</th>\n",
              "      <td>2009-07-15</td>\n",
              "      <td>577.0</td>\n",
              "      <td>49.0</td>\n",
              "      <td>40.0</td>\n",
              "      <td>11.0</td>\n",
              "      <td>NaN</td>\n",
              "      <td>NaN</td>\n",
              "      <td>1</td>\n",
              "      <td>0.09</td>\n",
              "    </tr>\n",
              "  </tbody>\n",
              "</table>\n",
              "</div>"
            ],
            "text/plain": [
              "   Start Date  Number of Observations  ...  Question Iteration  Difference\n",
              "0  2009-03-13                  1403.0  ...                   1        0.00\n",
              "1  2009-04-17                   686.0  ...                   1        0.11\n",
              "2  2009-05-14                  1000.0  ...                   1        0.18\n",
              "3  2009-06-12                   638.0  ...                   1        0.08\n",
              "4  2009-07-15                   577.0  ...                   1        0.09\n",
              "\n",
              "[5 rows x 9 columns]"
            ]
          },
          "metadata": {
            "tags": []
          },
          "execution_count": 36
        }
      ]
    },
    {
      "cell_type": "code",
      "metadata": {
        "colab": {
          "base_uri": "https://localhost:8080/",
          "height": 296
        },
        "id": "qkjTwX2FDXUb",
        "outputId": "b7e70ab8-34d8-45c8-f607-553eb0f54a3c"
      },
      "source": [
        "poll_df.plot('Start Date','Difference',figsize=(12,4),marker='o',linestyle='-',color='purple')"
      ],
      "execution_count": 38,
      "outputs": [
        {
          "output_type": "execute_result",
          "data": {
            "text/plain": [
              "<matplotlib.axes._subplots.AxesSubplot at 0x7f783f5e9978>"
            ]
          },
          "metadata": {
            "tags": []
          },
          "execution_count": 38
        },
        {
          "output_type": "display_data",
          "data": {
            "image/png": "[encoded data removed]",
            "text/plain": [
              "<Figure size 864x288 with 1 Axes>"
            ]
          },
          "metadata": {
            "tags": [],
            "needs_background": "light"
          }
        }
      ]
    },
    {
      "cell_type": "code",
      "metadata": {
        "colab": {
          "base_uri": "https://localhost:8080/"
        },
        "id": "MktRaATDDmd2",
        "outputId": "79e56ece-3ba5-40b4-a81a-12137fcd64e4"
      },
      "source": [
        "row_in = 0\r\n",
        "xlimit = []\r\n",
        "\r\n",
        "for date in poll_df['Start Date']:\r\n",
        "  if date[0:7] == '2012-10':\r\n",
        "    xlimit.append(row_in)\r\n",
        "    row_in += 1\r\n",
        "  else:\r\n",
        "    row_in += 1\r\n",
        "\r\n",
        "print(min(xlimit))\r\n",
        "print(max(xlimit))"
      ],
      "execution_count": 41,
      "outputs": [
        {
          "output_type": "stream",
          "text": [
            "325\n",
            "352\n"
          ],
          "name": "stdout"
        }
      ]
    },
    {
      "cell_type": "code",
      "metadata": {
        "colab": {
          "base_uri": "https://localhost:8080/",
          "height": 296
        },
        "id": "Dodu6MdaETvV",
        "outputId": "78ab35d4-b54f-4959-e5a8-18bd48e8b4d1"
      },
      "source": [
        "poll_df.plot('Start Date','Difference',figsize=(12,4),marker='o',linestyle='-',color='purple',xlim=(325,352))"
      ],
      "execution_count": 42,
      "outputs": [
        {
          "output_type": "execute_result",
          "data": {
            "text/plain": [
              "<matplotlib.axes._subplots.AxesSubplot at 0x7f783f3115c0>"
            ]
          },
          "metadata": {
            "tags": []
          },
          "execution_count": 42
        },
        {
          "output_type": "display_data",
          "data": {
            "image/png": "[encoded data removed]",
            "text/plain": [
              "<Figure size 864x288 with 1 Axes>"
            ]
          },
          "metadata": {
            "tags": [],
            "needs_background": "light"
          }
        }
      ]
    },
    {
      "cell_type": "code",
      "metadata": {
        "colab": {
          "base_uri": "https://localhost:8080/",
          "height": 296
        },
        "id": "8Dx_aeSbEvFa",
        "outputId": "d14abf05-cf3d-4f90-f4c0-667e45d69e6b"
      },
      "source": [
        "poll_df.plot('Start Date','Difference',figsize=(12,4),marker='o',linestyle='-',color='purple',xlim=(325,352))\r\n",
        "\r\n",
        "#Oct 3rd\r\n",
        "plt.axvline(x=325+2,linewidth=4,color='grey')\r\n",
        "#Oct 11th\r\n",
        "plt.axvline(x=325+10,linewidth=4,color='grey')\r\n",
        "#Oct 22nd\r\n",
        "plt.axvline(x=325+21,linewidth=4,color='grey')"
      ],
      "execution_count": 44,
      "outputs": [
        {
          "output_type": "execute_result",
          "data": {
            "text/plain": [
              "<matplotlib.lines.Line2D at 0x7f783eeff3c8>"
            ]
          },
          "metadata": {
            "tags": []
          },
          "execution_count": 44
        },
        {
          "output_type": "display_data",
          "data": {
            "image/png": "[encoded data removed]",
            "text/plain": [
              "<Figure size 864x288 with 1 Axes>"
            ]
          },
          "metadata": {
            "tags": [],
            "needs_background": "light"
          }
        }
      ]
    },
    {
      "cell_type": "code",
      "metadata": {
        "colab": {
          "base_uri": "https://localhost:8080/"
        },
        "id": "JhJ1ypV7FK76",
        "outputId": "7327e4cb-b1f6-4a8f-d18b-6e8129183760"
      },
      "source": [
        "from google.colab import drive\r\n",
        "drive.mount('/content/gdrive')"
      ],
      "execution_count": 45,
      "outputs": [
        {
          "output_type": "stream",
          "text": [
            "Mounted at /content/gdrive\n"
          ],
          "name": "stdout"
        }
      ]
    },
    {
      "cell_type": "code",
      "metadata": {
        "colab": {
          "base_uri": "https://localhost:8080/"
        },
        "id": "CU7NPa8XGSvN",
        "outputId": "34cb9974-2d86-4c3e-92b3-5cec0faef2f3"
      },
      "source": [
        "!ls /content/gdrive"
      ],
      "execution_count": 46,
      "outputs": [
        {
          "output_type": "stream",
          "text": [
            "MyDrive\n"
          ],
          "name": "stdout"
        }
      ]
    },
    {
      "cell_type": "code",
      "metadata": {
        "colab": {
          "base_uri": "https://localhost:8080/"
        },
        "id": "Kpz7I518GYcr",
        "outputId": "f5dc6547-2e37-410a-ccb7-18d217ae3b5f"
      },
      "source": [
        "!ls \"/content/gdrive/My Drive/PythonforVisAndAnalysis\""
      ],
      "execution_count": 48,
      "outputs": [
        {
          "output_type": "stream",
          "text": [
            " Election_Donor_Data.csv   mytextdata_out.csv\t       'Test Exel Liste.xlsx'\n",
            " gender_submission.csv\t  'Stock Market Analysis.PNG'   train.csv\n",
            " lec25.csv\t\t   test.csv\t\t        winequality-red.csv\n"
          ],
          "name": "stdout"
        }
      ]
    },
    {
      "cell_type": "code",
      "metadata": {
        "colab": {
          "base_uri": "https://localhost:8080/"
        },
        "id": "FzpHNhHFGcIr",
        "outputId": "2c3d6e50-b5d5-4bfd-ebbd-9eb0135fdd82"
      },
      "source": [
        "donor_df = pd.read_csv('/content/gdrive/My Drive/PythonforVisAndAnalysis/Election_Donor_Data.csv')"
      ],
      "execution_count": 50,
      "outputs": [
        {
          "output_type": "stream",
          "text": [
            "/usr/local/lib/python3.6/dist-packages/IPython/core/interactiveshell.py:2718: DtypeWarning: Columns (6) have mixed types.Specify dtype option on import or set low_memory=False.\n",
            "  interactivity=interactivity, compiler=compiler, result=result)\n"
          ],
          "name": "stderr"
        }
      ]
    },
    {
      "cell_type": "code",
      "metadata": {
        "colab": {
          "base_uri": "https://localhost:8080/"
        },
        "id": "tRi0AZyXGnVL",
        "outputId": "146b6ee2-e139-4076-c369-fb58ba66b65f"
      },
      "source": [
        "donor_df.info()"
      ],
      "execution_count": 51,
      "outputs": [
        {
          "output_type": "stream",
          "text": [
            "<class 'pandas.core.frame.DataFrame'>\n",
            "RangeIndex: 1001731 entries, 0 to 1001730\n",
            "Data columns (total 16 columns):\n",
            " #   Column             Non-Null Count    Dtype  \n",
            "---  ------             --------------    -----  \n",
            " 0   cmte_id            1001731 non-null  object \n",
            " 1   cand_id            1001731 non-null  object \n",
            " 2   cand_nm            1001731 non-null  object \n",
            " 3   contbr_nm          1001731 non-null  object \n",
            " 4   contbr_city        1001712 non-null  object \n",
            " 5   contbr_st          1001727 non-null  object \n",
            " 6   contbr_zip         1001620 non-null  object \n",
            " 7   contbr_employer    988002 non-null   object \n",
            " 8   contbr_occupation  993301 non-null   object \n",
            " 9   contb_receipt_amt  1001731 non-null  float64\n",
            " 10  contb_receipt_dt   1001731 non-null  object \n",
            " 11  receipt_desc       14166 non-null    object \n",
            " 12  memo_cd            92482 non-null    object \n",
            " 13  memo_text          97770 non-null    object \n",
            " 14  form_tp            1001731 non-null  object \n",
            " 15  file_num           1001731 non-null  int64  \n",
            "dtypes: float64(1), int64(1), object(14)\n",
            "memory usage: 122.3+ MB\n"
          ],
          "name": "stdout"
        }
      ]
    },
    {
      "cell_type": "code",
      "metadata": {
        "colab": {
          "base_uri": "https://localhost:8080/",
          "height": 316
        },
        "id": "-7EGcPC5Grpa",
        "outputId": "7e4129d8-93e3-47ea-9a1b-7ea2ef652e93"
      },
      "source": [
        "donor_df.head()"
      ],
      "execution_count": 52,
      "outputs": [
        {
          "output_type": "execute_result",
          "data": {
            "text/html": [
              "<div>\n",
              "<style scoped>\n",
              "    .dataframe tbody tr th:only-of-type {\n",
              "        vertical-align: middle;\n",
              "    }\n",
              "\n",
              "    .dataframe tbody tr th {\n",
              "        vertical-align: top;\n",
              "    }\n",
              "\n",
              "    .dataframe thead th {\n",
              "        text-align: right;\n",
              "    }\n",
              "</style>\n",
              "<table border=\"1\" class=\"dataframe\">\n",
              "  <thead>\n",
              "    <tr style=\"text-align: right;\">\n",
              "      <th></th>\n",
              "      <th>cmte_id</th>\n",
              "      <th>cand_id</th>\n",
              "      <th>cand_nm</th>\n",
              "      <th>contbr_nm</th>\n",
              "      <th>contbr_city</th>\n",
              "      <th>contbr_st</th>\n",
              "      <th>contbr_zip</th>\n",
              "      <th>contbr_employer</th>\n",
              "      <th>contbr_occupation</th>\n",
              "      <th>contb_receipt_amt</th>\n",
              "      <th>contb_receipt_dt</th>\n",
              "      <th>receipt_desc</th>\n",
              "      <th>memo_cd</th>\n",
              "      <th>memo_text</th>\n",
              "      <th>form_tp</th>\n",
              "      <th>file_num</th>\n",
              "    </tr>\n",
              "  </thead>\n",
              "  <tbody>\n",
              "    <tr>\n",
              "      <th>0</th>\n",
              "      <td>C00410118</td>\n",
              "      <td>P20002978</td>\n",
              "      <td>Bachmann, Michelle</td>\n",
              "      <td>HARVEY, WILLIAM</td>\n",
              "      <td>MOBILE</td>\n",
              "      <td>AL</td>\n",
              "      <td>3.6601e+08</td>\n",
              "      <td>RETIRED</td>\n",
              "      <td>RETIRED</td>\n",
              "      <td>250.0</td>\n",
              "      <td>20-JUN-11</td>\n",
              "      <td>NaN</td>\n",
              "      <td>NaN</td>\n",
              "      <td>NaN</td>\n",
              "      <td>SA17A</td>\n",
              "      <td>736166</td>\n",
              "    </tr>\n",
              "    <tr>\n",
              "      <th>1</th>\n",
              "      <td>C00410118</td>\n",
              "      <td>P20002978</td>\n",
              "      <td>Bachmann, Michelle</td>\n",
              "      <td>HARVEY, WILLIAM</td>\n",
              "      <td>MOBILE</td>\n",
              "      <td>AL</td>\n",
              "      <td>3.6601e+08</td>\n",
              "      <td>RETIRED</td>\n",
              "      <td>RETIRED</td>\n",
              "      <td>50.0</td>\n",
              "      <td>23-JUN-11</td>\n",
              "      <td>NaN</td>\n",
              "      <td>NaN</td>\n",
              "      <td>NaN</td>\n",
              "      <td>SA17A</td>\n",
              "      <td>736166</td>\n",
              "    </tr>\n",
              "    <tr>\n",
              "      <th>2</th>\n",
              "      <td>C00410118</td>\n",
              "      <td>P20002978</td>\n",
              "      <td>Bachmann, Michelle</td>\n",
              "      <td>SMITH, LANIER</td>\n",
              "      <td>LANETT</td>\n",
              "      <td>AL</td>\n",
              "      <td>3.68633e+08</td>\n",
              "      <td>INFORMATION REQUESTED</td>\n",
              "      <td>INFORMATION REQUESTED</td>\n",
              "      <td>250.0</td>\n",
              "      <td>05-JUL-11</td>\n",
              "      <td>NaN</td>\n",
              "      <td>NaN</td>\n",
              "      <td>NaN</td>\n",
              "      <td>SA17A</td>\n",
              "      <td>749073</td>\n",
              "    </tr>\n",
              "    <tr>\n",
              "      <th>3</th>\n",
              "      <td>C00410118</td>\n",
              "      <td>P20002978</td>\n",
              "      <td>Bachmann, Michelle</td>\n",
              "      <td>BLEVINS, DARONDA</td>\n",
              "      <td>PIGGOTT</td>\n",
              "      <td>AR</td>\n",
              "      <td>7.24548e+08</td>\n",
              "      <td>NONE</td>\n",
              "      <td>RETIRED</td>\n",
              "      <td>250.0</td>\n",
              "      <td>01-AUG-11</td>\n",
              "      <td>NaN</td>\n",
              "      <td>NaN</td>\n",
              "      <td>NaN</td>\n",
              "      <td>SA17A</td>\n",
              "      <td>749073</td>\n",
              "    </tr>\n",
              "    <tr>\n",
              "      <th>4</th>\n",
              "      <td>C00410118</td>\n",
              "      <td>P20002978</td>\n",
              "      <td>Bachmann, Michelle</td>\n",
              "      <td>WARDENBURG, HAROLD</td>\n",
              "      <td>HOT SPRINGS NATION</td>\n",
              "      <td>AR</td>\n",
              "      <td>7.19016e+08</td>\n",
              "      <td>NONE</td>\n",
              "      <td>RETIRED</td>\n",
              "      <td>300.0</td>\n",
              "      <td>20-JUN-11</td>\n",
              "      <td>NaN</td>\n",
              "      <td>NaN</td>\n",
              "      <td>NaN</td>\n",
              "      <td>SA17A</td>\n",
              "      <td>736166</td>\n",
              "    </tr>\n",
              "  </tbody>\n",
              "</table>\n",
              "</div>"
            ],
            "text/plain": [
              "     cmte_id    cand_id             cand_nm  ... memo_text form_tp file_num\n",
              "0  C00410118  P20002978  Bachmann, Michelle  ...       NaN   SA17A   736166\n",
              "1  C00410118  P20002978  Bachmann, Michelle  ...       NaN   SA17A   736166\n",
              "2  C00410118  P20002978  Bachmann, Michelle  ...       NaN   SA17A   749073\n",
              "3  C00410118  P20002978  Bachmann, Michelle  ...       NaN   SA17A   749073\n",
              "4  C00410118  P20002978  Bachmann, Michelle  ...       NaN   SA17A   736166\n",
              "\n",
              "[5 rows x 16 columns]"
            ]
          },
          "metadata": {
            "tags": []
          },
          "execution_count": 52
        }
      ]
    },
    {
      "cell_type": "code",
      "metadata": {
        "colab": {
          "base_uri": "https://localhost:8080/"
        },
        "id": "vJNwol2rG9gt",
        "outputId": "0bb8941c-f2d9-4c4a-9852-5844473017a2"
      },
      "source": [
        "donor_df['contb_receipt_amt'].value_counts()"
      ],
      "execution_count": 53,
      "outputs": [
        {
          "output_type": "execute_result",
          "data": {
            "text/plain": [
              "100.00    178188\n",
              "50.00     137584\n",
              "25.00     110345\n",
              "250.00     91182\n",
              "500.00     57984\n",
              "           ...  \n",
              "97.15          1\n",
              "122.32         1\n",
              "188.65         1\n",
              "122.40         1\n",
              "132.12         1\n",
              "Name: contb_receipt_amt, Length: 8079, dtype: int64"
            ]
          },
          "metadata": {
            "tags": []
          },
          "execution_count": 53
        }
      ]
    },
    {
      "cell_type": "code",
      "metadata": {
        "colab": {
          "base_uri": "https://localhost:8080/"
        },
        "id": "Dc2g_U1vHLEa",
        "outputId": "60434c91-5674-4606-b8ae-ee3c2c768675"
      },
      "source": [
        "don_mean = donor_df['contb_receipt_amt'].mean()\r\n",
        "\r\n",
        "don_std = donor_df['contb_receipt_amt'].std()\r\n",
        "\r\n",
        "print('The average donation was %.2f with a std %.2f' %(don_mean,don_std))"
      ],
      "execution_count": 56,
      "outputs": [
        {
          "output_type": "stream",
          "text": [
            "The average donation was 298.24 with a std 3749.67\n"
          ],
          "name": "stdout"
        }
      ]
    },
    {
      "cell_type": "code",
      "metadata": {
        "colab": {
          "base_uri": "https://localhost:8080/"
        },
        "id": "kkhRnqj0HmU6",
        "outputId": "6329fecc-7a61-4ff7-b737-d5ee16bee5da"
      },
      "source": [
        "top_donor = donor_df['contb_receipt_amt'].copy()\r\n",
        "\r\n",
        "top_donor = top_donor.sort_values()\r\n",
        "\r\n",
        "top_donor"
      ],
      "execution_count": 59,
      "outputs": [
        {
          "output_type": "execute_result",
          "data": {
            "text/plain": [
              "114604     -30800.00\n",
              "226986     -25800.00\n",
              "101356      -7500.00\n",
              "398429      -5500.00\n",
              "250737      -5455.00\n",
              "             ...    \n",
              "319478     526246.17\n",
              "344419    1511192.17\n",
              "344539    1679114.65\n",
              "326651    1944042.43\n",
              "325136    2014490.51\n",
              "Name: contb_receipt_amt, Length: 1001731, dtype: float64"
            ]
          },
          "metadata": {
            "tags": []
          },
          "execution_count": 59
        }
      ]
    },
    {
      "cell_type": "code",
      "metadata": {
        "id": "NpyJ-omOH5It"
      },
      "source": [
        "top_donor = top_donor[top_donor>0]"
      ],
      "execution_count": 60,
      "outputs": []
    },
    {
      "cell_type": "code",
      "metadata": {
        "colab": {
          "base_uri": "https://localhost:8080/"
        },
        "id": "dHuMxOWZIRVD",
        "outputId": "8181815a-8584-47fe-b538-9d59ff61ae5b"
      },
      "source": [
        "top_donor.tail(10)"
      ],
      "execution_count": 62,
      "outputs": [
        {
          "output_type": "execute_result",
          "data": {
            "text/plain": [
              "823345      25000.00\n",
              "217891      25800.00\n",
              "114754      33300.00\n",
              "257270     451726.00\n",
              "335187     512710.91\n",
              "319478     526246.17\n",
              "344419    1511192.17\n",
              "344539    1679114.65\n",
              "326651    1944042.43\n",
              "325136    2014490.51\n",
              "Name: contb_receipt_amt, dtype: float64"
            ]
          },
          "metadata": {
            "tags": []
          },
          "execution_count": 62
        }
      ]
    },
    {
      "cell_type": "code",
      "metadata": {
        "colab": {
          "base_uri": "https://localhost:8080/"
        },
        "id": "OtZZ1eBGITG6",
        "outputId": "f4d479e9-7408-4655-d5c3-7d9249c9777b"
      },
      "source": [
        "#What are the amounts which were donated most often?\r\n",
        "top_donor.value_counts().head(10)"
      ],
      "execution_count": 64,
      "outputs": [
        {
          "output_type": "execute_result",
          "data": {
            "text/plain": [
              "100.0     178188\n",
              "50.0      137584\n",
              "25.0      110345\n",
              "250.0      91182\n",
              "500.0      57984\n",
              "2500.0     49005\n",
              "35.0       37237\n",
              "1000.0     36494\n",
              "10.0       33986\n",
              "200.0      27813\n",
              "Name: contb_receipt_amt, dtype: int64"
            ]
          },
          "metadata": {
            "tags": []
          },
          "execution_count": 64
        }
      ]
    },
    {
      "cell_type": "code",
      "metadata": {
        "colab": {
          "base_uri": "https://localhost:8080/",
          "height": 282
        },
        "id": "VWu-I5Y1InEL",
        "outputId": "979ccf24-68f2-4760-92fa-c6302f66bdda"
      },
      "source": [
        "com_don = top_donor[top_donor < 2500]\r\n",
        "\r\n",
        "com_don.hist(bins=100)"
      ],
      "execution_count": 66,
      "outputs": [
        {
          "output_type": "execute_result",
          "data": {
            "text/plain": [
              "<matplotlib.axes._subplots.AxesSubplot at 0x7f78341ec5f8>"
            ]
          },
          "metadata": {
            "tags": []
          },
          "execution_count": 66
        },
        {
          "output_type": "display_data",
          "data": {
            "image/png": "[encoded data removed]",
            "text/plain": [
              "<Figure size 432x288 with 1 Axes>"
            ]
          },
          "metadata": {
            "tags": [],
            "needs_background": "light"
          }
        }
      ]
    },
    {
      "cell_type": "code",
      "metadata": {
        "colab": {
          "base_uri": "https://localhost:8080/"
        },
        "id": "jeWzpY-II_BK",
        "outputId": "21cf8b6e-0f69-4f1c-b310-b38c2421d891"
      },
      "source": [
        "candidates = donor_df.cand_nm.unique()\r\n",
        "\r\n",
        "candidates"
      ],
      "execution_count": 67,
      "outputs": [
        {
          "output_type": "execute_result",
          "data": {
            "text/plain": [
              "array(['Bachmann, Michelle', 'Romney, Mitt', 'Obama, Barack',\n",
              "       \"Roemer, Charles E. 'Buddy' III\", 'Pawlenty, Timothy',\n",
              "       'Johnson, Gary Earl', 'Paul, Ron', 'Santorum, Rick',\n",
              "       'Cain, Herman', 'Gingrich, Newt', 'McCotter, Thaddeus G',\n",
              "       'Huntsman, Jon', 'Perry, Rick'], dtype=object)"
            ]
          },
          "metadata": {
            "tags": []
          },
          "execution_count": 67
        }
      ]
    },
    {
      "cell_type": "code",
      "metadata": {
        "id": "3uN0D0mWJrMr"
      },
      "source": [
        "party_map = {'Bachmann, Michelle':'Republican',\r\n",
        "             'Romney, Mitt':'Republican',\r\n",
        "             'Obama, Barack':'Democrat',\r\n",
        "             \"Roemer, Charles E. 'Buddy' III\":'Republican',\r\n",
        "             'Pawlenty, Timothy':'Republican',\r\n",
        "             'Johnson, Gary Earl':'Republican',\r\n",
        "             'Paul, Ron':'Republican',\r\n",
        "             'Santorum, Rick':'Republican',\r\n",
        "             'Cain, Herman':'Republican',\r\n",
        "             'Gingrich, Newt':'Republican',\r\n",
        "             'McCotter, Thaddeus G':'Republican',\r\n",
        "             'Huntsman, Jon':'Republican',\r\n",
        "             'Perry, Rick':'Republican'}"
      ],
      "execution_count": 68,
      "outputs": []
    },
    {
      "cell_type": "code",
      "metadata": {
        "id": "MwpNCDiYK5ql"
      },
      "source": [
        "donor_df['Party'] = donor_df.cand_nm.map(party_map)"
      ],
      "execution_count": 69,
      "outputs": []
    },
    {
      "cell_type": "code",
      "metadata": {
        "id": "94bJcGxSK_g9"
      },
      "source": [
        "donor_df = donor_df[donor_df.contb_receipt_amt >0]"
      ],
      "execution_count": 70,
      "outputs": []
    },
    {
      "cell_type": "code",
      "metadata": {
        "colab": {
          "base_uri": "https://localhost:8080/",
          "height": 316
        },
        "id": "OVYFFXY2LHG6",
        "outputId": "4ff36405-0adb-4297-b0ca-fcc3f3b4c854"
      },
      "source": [
        "donor_df.head()"
      ],
      "execution_count": 71,
      "outputs": [
        {
          "output_type": "execute_result",
          "data": {
            "text/html": [
              "<div>\n",
              "<style scoped>\n",
              "    .dataframe tbody tr th:only-of-type {\n",
              "        vertical-align: middle;\n",
              "    }\n",
              "\n",
              "    .dataframe tbody tr th {\n",
              "        vertical-align: top;\n",
              "    }\n",
              "\n",
              "    .dataframe thead th {\n",
              "        text-align: right;\n",
              "    }\n",
              "</style>\n",
              "<table border=\"1\" class=\"dataframe\">\n",
              "  <thead>\n",
              "    <tr style=\"text-align: right;\">\n",
              "      <th></th>\n",
              "      <th>cmte_id</th>\n",
              "      <th>cand_id</th>\n",
              "      <th>cand_nm</th>\n",
              "      <th>contbr_nm</th>\n",
              "      <th>contbr_city</th>\n",
              "      <th>contbr_st</th>\n",
              "      <th>contbr_zip</th>\n",
              "      <th>contbr_employer</th>\n",
              "      <th>contbr_occupation</th>\n",
              "      <th>contb_receipt_amt</th>\n",
              "      <th>contb_receipt_dt</th>\n",
              "      <th>receipt_desc</th>\n",
              "      <th>memo_cd</th>\n",
              "      <th>memo_text</th>\n",
              "      <th>form_tp</th>\n",
              "      <th>file_num</th>\n",
              "      <th>Party</th>\n",
              "    </tr>\n",
              "  </thead>\n",
              "  <tbody>\n",
              "    <tr>\n",
              "      <th>0</th>\n",
              "      <td>C00410118</td>\n",
              "      <td>P20002978</td>\n",
              "      <td>Bachmann, Michelle</td>\n",
              "      <td>HARVEY, WILLIAM</td>\n",
              "      <td>MOBILE</td>\n",
              "      <td>AL</td>\n",
              "      <td>3.6601e+08</td>\n",
              "      <td>RETIRED</td>\n",
              "      <td>RETIRED</td>\n",
              "      <td>250.0</td>\n",
              "      <td>20-JUN-11</td>\n",
              "      <td>NaN</td>\n",
              "      <td>NaN</td>\n",
              "      <td>NaN</td>\n",
              "      <td>SA17A</td>\n",
              "      <td>736166</td>\n",
              "      <td>Republican</td>\n",
              "    </tr>\n",
              "    <tr>\n",
              "      <th>1</th>\n",
              "      <td>C00410118</td>\n",
              "      <td>P20002978</td>\n",
              "      <td>Bachmann, Michelle</td>\n",
              "      <td>HARVEY, WILLIAM</td>\n",
              "      <td>MOBILE</td>\n",
              "      <td>AL</td>\n",
              "      <td>3.6601e+08</td>\n",
              "      <td>RETIRED</td>\n",
              "      <td>RETIRED</td>\n",
              "      <td>50.0</td>\n",
              "      <td>23-JUN-11</td>\n",
              "      <td>NaN</td>\n",
              "      <td>NaN</td>\n",
              "      <td>NaN</td>\n",
              "      <td>SA17A</td>\n",
              "      <td>736166</td>\n",
              "      <td>Republican</td>\n",
              "    </tr>\n",
              "    <tr>\n",
              "      <th>2</th>\n",
              "      <td>C00410118</td>\n",
              "      <td>P20002978</td>\n",
              "      <td>Bachmann, Michelle</td>\n",
              "      <td>SMITH, LANIER</td>\n",
              "      <td>LANETT</td>\n",
              "      <td>AL</td>\n",
              "      <td>3.68633e+08</td>\n",
              "      <td>INFORMATION REQUESTED</td>\n",
              "      <td>INFORMATION REQUESTED</td>\n",
              "      <td>250.0</td>\n",
              "      <td>05-JUL-11</td>\n",
              "      <td>NaN</td>\n",
              "      <td>NaN</td>\n",
              "      <td>NaN</td>\n",
              "      <td>SA17A</td>\n",
              "      <td>749073</td>\n",
              "      <td>Republican</td>\n",
              "    </tr>\n",
              "    <tr>\n",
              "      <th>3</th>\n",
              "      <td>C00410118</td>\n",
              "      <td>P20002978</td>\n",
              "      <td>Bachmann, Michelle</td>\n",
              "      <td>BLEVINS, DARONDA</td>\n",
              "      <td>PIGGOTT</td>\n",
              "      <td>AR</td>\n",
              "      <td>7.24548e+08</td>\n",
              "      <td>NONE</td>\n",
              "      <td>RETIRED</td>\n",
              "      <td>250.0</td>\n",
              "      <td>01-AUG-11</td>\n",
              "      <td>NaN</td>\n",
              "      <td>NaN</td>\n",
              "      <td>NaN</td>\n",
              "      <td>SA17A</td>\n",
              "      <td>749073</td>\n",
              "      <td>Republican</td>\n",
              "    </tr>\n",
              "    <tr>\n",
              "      <th>4</th>\n",
              "      <td>C00410118</td>\n",
              "      <td>P20002978</td>\n",
              "      <td>Bachmann, Michelle</td>\n",
              "      <td>WARDENBURG, HAROLD</td>\n",
              "      <td>HOT SPRINGS NATION</td>\n",
              "      <td>AR</td>\n",
              "      <td>7.19016e+08</td>\n",
              "      <td>NONE</td>\n",
              "      <td>RETIRED</td>\n",
              "      <td>300.0</td>\n",
              "      <td>20-JUN-11</td>\n",
              "      <td>NaN</td>\n",
              "      <td>NaN</td>\n",
              "      <td>NaN</td>\n",
              "      <td>SA17A</td>\n",
              "      <td>736166</td>\n",
              "      <td>Republican</td>\n",
              "    </tr>\n",
              "  </tbody>\n",
              "</table>\n",
              "</div>"
            ],
            "text/plain": [
              "     cmte_id    cand_id             cand_nm  ... form_tp file_num       Party\n",
              "0  C00410118  P20002978  Bachmann, Michelle  ...   SA17A   736166  Republican\n",
              "1  C00410118  P20002978  Bachmann, Michelle  ...   SA17A   736166  Republican\n",
              "2  C00410118  P20002978  Bachmann, Michelle  ...   SA17A   749073  Republican\n",
              "3  C00410118  P20002978  Bachmann, Michelle  ...   SA17A   749073  Republican\n",
              "4  C00410118  P20002978  Bachmann, Michelle  ...   SA17A   736166  Republican\n",
              "\n",
              "[5 rows x 17 columns]"
            ]
          },
          "metadata": {
            "tags": []
          },
          "execution_count": 71
        }
      ]
    },
    {
      "cell_type": "code",
      "metadata": {
        "colab": {
          "base_uri": "https://localhost:8080/"
        },
        "id": "HSYlS5ShLIzL",
        "outputId": "f80360ab-bd09-4afb-d5ab-8e72d8dc7be7"
      },
      "source": [
        "donor_df.groupby('cand_nm')['contb_receipt_amt'].count()"
      ],
      "execution_count": 73,
      "outputs": [
        {
          "output_type": "execute_result",
          "data": {
            "text/plain": [
              "cand_nm\n",
              "Bachmann, Michelle                 13082\n",
              "Cain, Herman                       20052\n",
              "Gingrich, Newt                     46883\n",
              "Huntsman, Jon                       4066\n",
              "Johnson, Gary Earl                  1234\n",
              "McCotter, Thaddeus G                  73\n",
              "Obama, Barack                     589127\n",
              "Paul, Ron                         143161\n",
              "Pawlenty, Timothy                   3844\n",
              "Perry, Rick                        12709\n",
              "Roemer, Charles E. 'Buddy' III      5844\n",
              "Romney, Mitt                      105155\n",
              "Santorum, Rick                     46245\n",
              "Name: contb_receipt_amt, dtype: int64"
            ]
          },
          "metadata": {
            "tags": []
          },
          "execution_count": 73
        }
      ]
    },
    {
      "cell_type": "code",
      "metadata": {
        "colab": {
          "base_uri": "https://localhost:8080/"
        },
        "id": "qSJHJY3NLWvK",
        "outputId": "ad5b89af-8681-49e7-e7b5-c854760305ea"
      },
      "source": [
        "donor_df.groupby('cand_nm')['contb_receipt_amt'].sum()"
      ],
      "execution_count": 74,
      "outputs": [
        {
          "output_type": "execute_result",
          "data": {
            "text/plain": [
              "cand_nm\n",
              "Bachmann, Michelle                2.711439e+06\n",
              "Cain, Herman                      7.101082e+06\n",
              "Gingrich, Newt                    1.283277e+07\n",
              "Huntsman, Jon                     3.330373e+06\n",
              "Johnson, Gary Earl                5.669616e+05\n",
              "McCotter, Thaddeus G              3.903000e+04\n",
              "Obama, Barack                     1.358774e+08\n",
              "Paul, Ron                         2.100962e+07\n",
              "Pawlenty, Timothy                 6.004819e+06\n",
              "Perry, Rick                       2.030575e+07\n",
              "Roemer, Charles E. 'Buddy' III    3.730099e+05\n",
              "Romney, Mitt                      8.833591e+07\n",
              "Santorum, Rick                    1.104316e+07\n",
              "Name: contb_receipt_amt, dtype: float64"
            ]
          },
          "metadata": {
            "tags": []
          },
          "execution_count": 74
        }
      ]
    },
    {
      "cell_type": "code",
      "metadata": {
        "colab": {
          "base_uri": "https://localhost:8080/"
        },
        "id": "3NmcODphgs5P",
        "outputId": "a0256b01-b6be-4755-88d5-0e7b11f7c5eb"
      },
      "source": [
        "cand_amount = donor_df.groupby('cand_nm')['contb_receipt_amt'].sum()\r\n",
        "\r\n",
        "i = 0\r\n",
        "\r\n",
        "for don in cand_amount:\r\n",
        "  print('The candidate %s raised %.0f dollars' %(cand_amount.index[i],don))\r\n",
        "  print('\\n')\r\n",
        "  i+=1"
      ],
      "execution_count": 77,
      "outputs": [
        {
          "output_type": "stream",
          "text": [
            "The candidate Bachmann, Michelle raised 2711439 dollars\n",
            "\n",
            "\n",
            "The candidate Cain, Herman raised 7101082 dollars\n",
            "\n",
            "\n",
            "The candidate Gingrich, Newt raised 12832770 dollars\n",
            "\n",
            "\n",
            "The candidate Huntsman, Jon raised 3330373 dollars\n",
            "\n",
            "\n",
            "The candidate Johnson, Gary Earl raised 566962 dollars\n",
            "\n",
            "\n",
            "The candidate McCotter, Thaddeus G raised 39030 dollars\n",
            "\n",
            "\n",
            "The candidate Obama, Barack raised 135877427 dollars\n",
            "\n",
            "\n",
            "The candidate Paul, Ron raised 21009620 dollars\n",
            "\n",
            "\n",
            "The candidate Pawlenty, Timothy raised 6004819 dollars\n",
            "\n",
            "\n",
            "The candidate Perry, Rick raised 20305754 dollars\n",
            "\n",
            "\n",
            "The candidate Roemer, Charles E. 'Buddy' III raised 373010 dollars\n",
            "\n",
            "\n",
            "The candidate Romney, Mitt raised 88335908 dollars\n",
            "\n",
            "\n",
            "The candidate Santorum, Rick raised 11043159 dollars\n",
            "\n",
            "\n"
          ],
          "name": "stdout"
        }
      ]
    },
    {
      "cell_type": "code",
      "metadata": {
        "colab": {
          "base_uri": "https://localhost:8080/",
          "height": 446
        },
        "id": "su1HkcDGhH_-",
        "outputId": "69052b41-edd1-46ea-91f8-16afc48615a4"
      },
      "source": [
        "cand_amount.plot(kind='bar')"
      ],
      "execution_count": 78,
      "outputs": [
        {
          "output_type": "execute_result",
          "data": {
            "text/plain": [
              "<matplotlib.axes._subplots.AxesSubplot at 0x7f7834070fd0>"
            ]
          },
          "metadata": {
            "tags": []
          },
          "execution_count": 78
        },
        {
          "output_type": "display_data",
          "data": {
            "image/png": "[encoded data removed]",
            "text/plain": [
              "<Figure size 432x288 with 1 Axes>"
            ]
          },
          "metadata": {
            "tags": [],
            "needs_background": "light"
          }
        }
      ]
    },
    {
      "cell_type": "code",
      "metadata": {
        "colab": {
          "base_uri": "https://localhost:8080/",
          "height": 352
        },
        "id": "yMwx9ivlhcL8",
        "outputId": "1a89f780-c525-44b6-e3e4-afe3d99c8b3e"
      },
      "source": [
        "donor_df.groupby('Party')['contb_receipt_amt'].sum().plot(kind='bar')"
      ],
      "execution_count": 79,
      "outputs": [
        {
          "output_type": "execute_result",
          "data": {
            "text/plain": [
              "<matplotlib.axes._subplots.AxesSubplot at 0x7f7833ffe358>"
            ]
          },
          "metadata": {
            "tags": []
          },
          "execution_count": 79
        },
        {
          "output_type": "display_data",
          "data": {
            "image/png": "[encoded data removed]",
            "text/plain": [
              "<Figure size 432x288 with 1 Axes>"
            ]
          },
          "metadata": {
            "tags": [],
            "needs_background": "light"
          }
        }
      ]
    },
    {
      "cell_type": "code",
      "metadata": {
        "id": "HYtlgH0ZhrTc"
      },
      "source": [
        "occupation_df = donor_df.pivot_table('contb_receipt_amt',\r\n",
        "                                     index='contbr_occupation',\r\n",
        "                                     columns='Party',\r\n",
        "                                     aggfunc='sum')"
      ],
      "execution_count": 81,
      "outputs": []
    },
    {
      "cell_type": "code",
      "metadata": {
        "colab": {
          "base_uri": "https://localhost:8080/",
          "height": 225
        },
        "id": "Lw1vlVmkiCYc",
        "outputId": "0295ae35-5757-409d-9965-a2a81f7bf638"
      },
      "source": [
        "occupation_df.tail()"
      ],
      "execution_count": 83,
      "outputs": [
        {
          "output_type": "execute_result",
          "data": {
            "text/html": [
              "<div>\n",
              "<style scoped>\n",
              "    .dataframe tbody tr th:only-of-type {\n",
              "        vertical-align: middle;\n",
              "    }\n",
              "\n",
              "    .dataframe tbody tr th {\n",
              "        vertical-align: top;\n",
              "    }\n",
              "\n",
              "    .dataframe thead th {\n",
              "        text-align: right;\n",
              "    }\n",
              "</style>\n",
              "<table border=\"1\" class=\"dataframe\">\n",
              "  <thead>\n",
              "    <tr style=\"text-align: right;\">\n",
              "      <th>Party</th>\n",
              "      <th>Democrat</th>\n",
              "      <th>Republican</th>\n",
              "    </tr>\n",
              "    <tr>\n",
              "      <th>contbr_occupation</th>\n",
              "      <th></th>\n",
              "      <th></th>\n",
              "    </tr>\n",
              "  </thead>\n",
              "  <tbody>\n",
              "    <tr>\n",
              "      <th>ZOOKEEPER</th>\n",
              "      <td>35.0</td>\n",
              "      <td>NaN</td>\n",
              "    </tr>\n",
              "    <tr>\n",
              "      <th>ZOOLOGIST</th>\n",
              "      <td>400.0</td>\n",
              "      <td>NaN</td>\n",
              "    </tr>\n",
              "    <tr>\n",
              "      <th>ZOOLOGY EDUCATION</th>\n",
              "      <td>25.0</td>\n",
              "      <td>NaN</td>\n",
              "    </tr>\n",
              "    <tr>\n",
              "      <th>\\NONE\\</th>\n",
              "      <td>NaN</td>\n",
              "      <td>250.0</td>\n",
              "    </tr>\n",
              "    <tr>\n",
              "      <th>~</th>\n",
              "      <td>NaN</td>\n",
              "      <td>75.0</td>\n",
              "    </tr>\n",
              "  </tbody>\n",
              "</table>\n",
              "</div>"
            ],
            "text/plain": [
              "Party              Democrat  Republican\n",
              "contbr_occupation                      \n",
              "ZOOKEEPER              35.0         NaN\n",
              "ZOOLOGIST             400.0         NaN\n",
              "ZOOLOGY EDUCATION      25.0         NaN\n",
              "\\NONE\\                  NaN       250.0\n",
              "~                       NaN        75.0"
            ]
          },
          "metadata": {
            "tags": []
          },
          "execution_count": 83
        }
      ]
    },
    {
      "cell_type": "code",
      "metadata": {
        "colab": {
          "base_uri": "https://localhost:8080/"
        },
        "id": "LHxAKYRDiKL9",
        "outputId": "eecaa219-6471-476d-8aa3-4642ac7ec273"
      },
      "source": [
        "occupation_df.shape"
      ],
      "execution_count": 84,
      "outputs": [
        {
          "output_type": "execute_result",
          "data": {
            "text/plain": [
              "(45067, 2)"
            ]
          },
          "metadata": {
            "tags": []
          },
          "execution_count": 84
        }
      ]
    },
    {
      "cell_type": "code",
      "metadata": {
        "id": "T0fz6WmIiVyM"
      },
      "source": [
        "occupation_df = occupation_df[occupation_df.sum(1) > 1000000]"
      ],
      "execution_count": 85,
      "outputs": []
    },
    {
      "cell_type": "code",
      "metadata": {
        "colab": {
          "base_uri": "https://localhost:8080/"
        },
        "id": "O9hGXcXFilM9",
        "outputId": "a5b860e1-4a37-45dc-fddb-8bd69722bfe3"
      },
      "source": [
        "occupation_df.shape"
      ],
      "execution_count": 87,
      "outputs": [
        {
          "output_type": "execute_result",
          "data": {
            "text/plain": [
              "(31, 2)"
            ]
          },
          "metadata": {
            "tags": []
          },
          "execution_count": 87
        }
      ]
    },
    {
      "cell_type": "code",
      "metadata": {
        "colab": {
          "base_uri": "https://localhost:8080/",
          "height": 529
        },
        "id": "8Pbz3Fvuimtd",
        "outputId": "a6b68acd-00bf-4044-c644-f19c50b8451a"
      },
      "source": [
        "occupation_df.plot(kind='bar')"
      ],
      "execution_count": 88,
      "outputs": [
        {
          "output_type": "execute_result",
          "data": {
            "text/plain": [
              "<matplotlib.axes._subplots.AxesSubplot at 0x7f7833e3dcf8>"
            ]
          },
          "metadata": {
            "tags": []
          },
          "execution_count": 88
        },
        {
          "output_type": "display_data",
          "data": {
            "image/png": "[encoded data removed]",
            "text/plain": [
              "<Figure size 432x288 with 1 Axes>"
            ]
          },
          "metadata": {
            "tags": [],
            "needs_background": "light"
          }
        }
      ]
    },
    {
      "cell_type": "code",
      "metadata": {
        "colab": {
          "base_uri": "https://localhost:8080/",
          "height": 730
        },
        "id": "S6oiXS_siqlt",
        "outputId": "5ad422f7-4a7a-433b-b324-aff0b418bd60"
      },
      "source": [
        "occupation_df.plot(kind='barh',figsize=(10,12),cmap='seismic')"
      ],
      "execution_count": 90,
      "outputs": [
        {
          "output_type": "execute_result",
          "data": {
            "text/plain": [
              "<matplotlib.axes._subplots.AxesSubplot at 0x7f7833cc2d30>"
            ]
          },
          "metadata": {
            "tags": []
          },
          "execution_count": 90
        },
        {
          "output_type": "display_data",
          "data": {
            "image/png": "[encoded data removed]",
            "text/plain": [
              "<Figure size 720x864 with 1 Axes>"
            ]
          },
          "metadata": {
            "tags": [],
            "needs_background": "light"
          }
        }
      ]
    },
    {
      "cell_type": "code",
      "metadata": {
        "id": "da5FFWSxizQQ"
      },
      "source": [
        "occupation_df.drop(['INFORMATION REQUESTED PER BEST EFFORTS','INFORMATION REQUESTED'],axis=0,inplace=True)"
      ],
      "execution_count": 91,
      "outputs": []
    },
    {
      "cell_type": "code",
      "metadata": {
        "id": "Ff8cnjqejNJc"
      },
      "source": [
        "occupation_df.loc['CEO'] = occupation_df.loc['CEO'] + occupation_df.loc['C.E.O.']\r\n",
        "\r\n",
        "occupation_df.drop('C.E.O.',inplace=True)"
      ],
      "execution_count": 95,
      "outputs": []
    },
    {
      "cell_type": "code",
      "metadata": {
        "colab": {
          "base_uri": "https://localhost:8080/",
          "height": 730
        },
        "id": "DVQX7M0AjXQN",
        "outputId": "c1151b6a-5214-407c-902f-2e033fb6c4d4"
      },
      "source": [
        "occupation_df.plot(kind='barh',figsize=(10,12),cmap='seismic')"
      ],
      "execution_count": 96,
      "outputs": [
        {
          "output_type": "execute_result",
          "data": {
            "text/plain": [
              "<matplotlib.axes._subplots.AxesSubplot at 0x7f7833ab18d0>"
            ]
          },
          "metadata": {
            "tags": []
          },
          "execution_count": 96
        },
        {
          "output_type": "display_data",
          "data": {
            "image/png": "[encoded data removed]",
            "text/plain": [
              "<Figure size 720x864 with 1 Axes>"
            ]
          },
          "metadata": {
            "tags": [],
            "needs_background": "light"
          }
        }
      ]
    },
    {
      "cell_type": "code",
      "metadata": {
        "id": "O2_s4fu0j45P"
      },
      "source": [
        ""
      ],
      "execution_count": null,
      "outputs": []
    }
  ]
}